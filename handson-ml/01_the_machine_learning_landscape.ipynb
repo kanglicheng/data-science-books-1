{
 "cells": [
  {
   "cell_type": "markdown",
   "metadata": {
    "autoscroll": false,
    "ein.tags": "worksheet-0",
    "slideshow": {
     "slide_type": "-"
    }
   },
   "source": [
    "#### Chapter 01 - The machine learning landscape"
   ]
  },
  {
   "cell_type": "code",
   "execution_count": 2,
   "metadata": {
    "autoscroll": false,
    "collapsed": false,
    "ein.tags": "worksheet-0",
    "slideshow": {
     "slide_type": "-"
    }
   },
   "outputs": [],
   "source": [
    "from __future__ import division, print_function, unicode_literals\n",
    "\n",
    "import numpy as np\n",
    "import numpy.random as rnd\n",
    "import os\n",
    "\n",
    "rnd.seed(42)\n",
    "\n",
    "%matplotlib inline\n",
    "import matplotlib\n",
    "import matplotlib.pyplot as plt\n",
    "plt.rcParams['axes.labelsize'] = 14\n",
    "plt.rcParams['xtick.labelsize'] = 12\n",
    "plt.rcParams['ytick.labelsize'] = 12\n",
    "\n",
    "PROJECT_ROOT_DIR = \".\"\n",
    "CHAPTER_ID = \"fundamentals\"\n",
    "\n",
    "def save_fig(fig_id, tight_layout=True):\n",
    "    path = os.path.join(PROJECT_ROOT_DIR, \"images\", CHAPTER_ID, fig_id + \".png\")\n",
    "    print(\"Saving figure\", fig_id)\n",
    "    if tight_layout:\n",
    "    \tplt.tight_layout()\n",
    "    plt.save_fig(path, format='png', dpi=300)    "
   ]
  },
  {
   "cell_type": "code",
   "execution_count": 17,
   "metadata": {
    "autoscroll": false,
    "collapsed": false,
    "ein.tags": "worksheet-0",
    "slideshow": {
     "slide_type": "-"
    }
   },
   "outputs": [
    {
     "data": {
      "text/plain": [
       "Indicator  Air pollution  Assault rate  Consultation on rule-making  \\\nCountry                                                               \nAustralia           13.0           2.1                         10.5   \nAustria             27.0           3.4                          7.1   \n\nIndicator  Dwellings without basic facilities  Educational attainment  \\\nCountry                                                                 \nAustralia                                 1.1                    76.0   \nAustria                                   1.0                    83.0   \n\nIndicator  Employees working very long hours  Employment rate  Homicide rate  \\\nCountry                                                                        \nAustralia                              14.02             72.0            0.8   \nAustria                                 7.61             72.0            0.4   \n\nIndicator  Household net adjusted disposable income  \\\nCountry                                               \nAustralia                                   31588.0   \nAustria                                     31173.0   \n\nIndicator  Household net financial wealth         ...          \\\nCountry                                           ...           \nAustralia                         47657.0         ...           \nAustria                           49887.0         ...           \n\nIndicator  Long-term unemployment rate  Personal earnings  \\\nCountry                                                     \nAustralia                         1.08            50449.0   \nAustria                           1.19            45199.0   \n\nIndicator  Quality of support network  Rooms per person  Self-reported health  \\\nCountry                                                                         \nAustralia                        92.0               2.3                  85.0   \nAustria                          89.0               1.6                  69.0   \n\nIndicator  Student skills  Time devoted to leisure and personal care  \\\nCountry                                                                \nAustralia           512.0                                      14.41   \nAustria             500.0                                      14.46   \n\nIndicator  Voter turnout  Water quality  Years in education  \nCountry                                                      \nAustralia           93.0           91.0                19.4  \nAustria             75.0           94.0                17.0  \n\n[2 rows x 24 columns]"
      ]
     },
     "execution_count": 17,
     "metadata": {},
     "output_type": "execute_result"
    }
   ],
   "source": [
    "import pandas as pd\n",
    "\n",
    "datapath = \"datasets/lifesat/\"\n",
    "\n",
    "oecd_bli = pd.read_csv(datapath+\"oecd_bli_2015.csv\", thousands=',')\n",
    "oecd_bli = oecd_bli[oecd_bli['INEQUALITY']==\"TOT\"]\n",
    "oecd_bli = oecd_bli.pivot(index=\"Country\", columns=\"Indicator\", values=\"Value\")\n",
    "oecd_bli.head(2)"
   ]
  },
  {
   "cell_type": "code",
   "execution_count": null,
   "metadata": {
    "autoscroll": false,
    "collapsed": false,
    "ein.tags": "worksheet-0",
    "slideshow": {
     "slide_type": "-"
    }
   },
   "outputs": [
    {
     "data": {
      "text/plain": [
       "Country\nAustralia    73\nAustria      69\nBelgium      69\nBrazil        7\nCanada       73\nName: Life satisfaction, dtype: int64"
      ]
     },
     "execution_count": 8,
     "metadata": {},
     "output_type": "execute_result"
    }
   ],
   "source": [
    "oecd_bli[\"Life satisfaction\"].head()"
   ]
  },
  {
   "cell_type": "code",
   "execution_count": 18,
   "metadata": {
    "autoscroll": false,
    "collapsed": false,
    "ein.tags": "worksheet-0",
    "slideshow": {
     "slide_type": "-"
    }
   },
   "outputs": [
    {
     "data": {
      "text/plain": [
       "                                            Subject Descriptor         Units  \\\nCountry                                                                        \nAfghanistan  Gross domestic product per capita, current prices  U.S. dollars   \nAlbania      Gross domestic product per capita, current prices  U.S. dollars   \n\n             Scale                      Country/Series-specific Notes  \\\nCountry                                                                 \nAfghanistan  Units  See notes for:  Gross domestic product, curren...   \nAlbania      Units  See notes for:  Gross domestic product, curren...   \n\n             GDP per capita  Estimates Start After  \nCountry                                             \nAfghanistan         599.994                 2013.0  \nAlbania            3995.383                 2010.0  "
      ]
     },
     "execution_count": 18,
     "metadata": {},
     "output_type": "execute_result"
    }
   ],
   "source": [
    "gdp_per_capita = pd.read_csv(datapath+\"gdp_per_capita.csv\", thousands=',', delimiter='\\t', encoding = 'latin1', na_values=\"n/a\")\n",
    "gdp_per_capita.rename(columns={\"2015\": \"GDP per capita\"}, inplace=True)\n",
    "gdp_per_capita.set_index(\"Country\", inplace=True)\n",
    "gdp_per_capita.head(2)"
   ]
  },
  {
   "cell_type": "code",
   "execution_count": 19,
   "metadata": {
    "autoscroll": false,
    "collapsed": false,
    "ein.tags": "worksheet-0",
    "slideshow": {
     "slide_type": "-"
    }
   },
   "outputs": [
    {
     "data": {
      "text/plain": [
       "                 Air pollution  Assault rate  Consultation on rule-making  \\\nCountry                                                                     \nBrazil                    18.0           7.9                          4.0   \nMexico                    30.0          12.8                          9.0   \nRussia                    15.0           3.8                          2.5   \nTurkey                    35.0           5.0                          5.5   \nHungary                   15.0           3.6                          7.9   \nPoland                    33.0           1.4                         10.8   \nChile                     46.0           6.9                          2.0   \nSlovak Republic           13.0           3.0                          6.6   \nCzech Republic            16.0           2.8                          6.8   \nEstonia                    9.0           5.5                          3.3   \nGreece                    27.0           3.7                          6.5   \nPortugal                  18.0           5.7                          6.5   \nSlovenia                  26.0           3.9                         10.3   \nSpain                     24.0           4.2                          7.3   \nKorea                     30.0           2.1                         10.4   \nItaly                     21.0           4.7                          5.0   \nJapan                     24.0           1.4                          7.3   \nIsrael                    21.0           6.4                          2.5   \nNew Zealand               11.0           2.2                         10.3   \nFrance                    12.0           5.0                          3.5   \nBelgium                   21.0           6.6                          4.5   \nGermany                   16.0           3.6                          4.5   \nFinland                   15.0           2.4                          9.0   \nCanada                    15.0           1.3                         10.5   \nNetherlands               30.0           4.9                          6.1   \nAustria                   27.0           3.4                          7.1   \nUnited Kingdom            13.0           1.9                         11.5   \nSweden                    10.0           5.1                         10.9   \nIceland                   18.0           2.7                          5.1   \nAustralia                 13.0           2.1                         10.5   \nIreland                   13.0           2.6                          9.0   \nDenmark                   15.0           3.9                          7.0   \nUnited States             18.0           1.5                          8.3   \nNorway                    16.0           3.3                          8.1   \nSwitzerland               20.0           4.2                          8.4   \nLuxembourg                12.0           4.3                          6.0   \n\n                 Dwellings without basic facilities  Educational attainment  \\\nCountry                                                                       \nBrazil                                          6.7                    45.0   \nMexico                                          4.2                    37.0   \nRussia                                         15.1                    94.0   \nTurkey                                         12.7                    34.0   \nHungary                                         4.8                    82.0   \nPoland                                          3.2                    90.0   \nChile                                           9.4                    57.0   \nSlovak Republic                                 0.6                    92.0   \nCzech Republic                                  0.9                    92.0   \nEstonia                                         8.1                    90.0   \nGreece                                          0.7                    68.0   \nPortugal                                        0.9                    38.0   \nSlovenia                                        0.5                    85.0   \nSpain                                           0.1                    55.0   \nKorea                                           4.2                    82.0   \nItaly                                           1.1                    57.0   \nJapan                                           6.4                    94.0   \nIsrael                                          3.7                    85.0   \nNew Zealand                                     0.2                    74.0   \nFrance                                          0.5                    73.0   \nBelgium                                         2.0                    72.0   \nGermany                                         0.1                    86.0   \nFinland                                         0.6                    85.0   \nCanada                                          0.2                    89.0   \nNetherlands                                     0.0                    73.0   \nAustria                                         1.0                    83.0   \nUnited Kingdom                                  0.2                    78.0   \nSweden                                          0.0                    88.0   \nIceland                                         0.4                    71.0   \nAustralia                                       1.1                    76.0   \nIreland                                         0.2                    75.0   \nDenmark                                         0.9                    78.0   \nUnited States                                   0.1                    89.0   \nNorway                                          0.3                    82.0   \nSwitzerland                                     0.0                    86.0   \nLuxembourg                                      0.1                    78.0   \n\n                 Employees working very long hours  Employment rate  \\\nCountry                                                               \nBrazil                                       10.41             67.0   \nMexico                                       28.83             61.0   \nRussia                                        0.16             69.0   \nTurkey                                       40.86             50.0   \nHungary                                       3.19             58.0   \nPoland                                        7.41             60.0   \nChile                                        15.42             62.0   \nSlovak Republic                               7.02             60.0   \nCzech Republic                                6.98             68.0   \nEstonia                                       3.30             68.0   \nGreece                                        6.16             49.0   \nPortugal                                      9.62             61.0   \nSlovenia                                      5.63             63.0   \nSpain                                         5.89             56.0   \nKorea                                        18.72             64.0   \nItaly                                         3.66             56.0   \nJapan                                        22.26             72.0   \nIsrael                                       16.03             67.0   \nNew Zealand                                  13.87             73.0   \nFrance                                        8.15             64.0   \nBelgium                                       4.57             62.0   \nGermany                                       5.25             73.0   \nFinland                                       3.58             69.0   \nCanada                                        3.94             72.0   \nNetherlands                                   0.45             74.0   \nAustria                                       7.61             72.0   \nUnited Kingdom                               12.70             71.0   \nSweden                                        1.13             74.0   \nIceland                                      12.25             82.0   \nAustralia                                    14.02             72.0   \nIreland                                       4.20             60.0   \nDenmark                                       2.03             73.0   \nUnited States                                11.30             67.0   \nNorway                                        2.82             75.0   \nSwitzerland                                   6.72             80.0   \nLuxembourg                                    3.47             66.0   \n\n                 Homicide rate  Household net adjusted disposable income  \\\nCountry                                                                    \nBrazil                    25.5                                   11664.0   \nMexico                    23.4                                   13085.0   \nRussia                    12.8                                   19292.0   \nTurkey                     1.2                                   14095.0   \nHungary                    1.3                                   15442.0   \nPoland                     0.9                                   17852.0   \nChile                      4.4                                   14533.0   \nSlovak Republic            1.2                                   17503.0   \nCzech Republic             0.8                                   18404.0   \nEstonia                    4.8                                   15167.0   \nGreece                     1.6                                   18575.0   \nPortugal                   1.1                                   20086.0   \nSlovenia                   0.4                                   19326.0   \nSpain                      0.6                                   22477.0   \nKorea                      1.1                                   19510.0   \nItaly                      0.7                                   25166.0   \nJapan                      0.3                                   26111.0   \nIsrael                     2.3                                   22104.0   \nNew Zealand                1.2                                   23815.0   \nFrance                     0.6                                   28799.0   \nBelgium                    1.1                                   28307.0   \nGermany                    0.5                                   31252.0   \nFinland                    1.4                                   27927.0   \nCanada                     1.5                                   29365.0   \nNetherlands                0.9                                   27888.0   \nAustria                    0.4                                   31173.0   \nUnited Kingdom             0.3                                   27029.0   \nSweden                     0.7                                   29185.0   \nIceland                    0.3                                   23965.0   \nAustralia                  0.8                                   31588.0   \nIreland                    0.8                                   23917.0   \nDenmark                    0.3                                   26491.0   \nUnited States              5.2                                   41355.0   \nNorway                     0.6                                   33492.0   \nSwitzerland                0.5                                   33491.0   \nLuxembourg                 0.4                                   38951.0   \n\n                 Household net financial wealth          ...            \\\nCountry                                                  ...             \nBrazil                                   6844.0          ...             \nMexico                                   9056.0          ...             \nRussia                                   3412.0          ...             \nTurkey                                   3251.0          ...             \nHungary                                 13277.0          ...             \nPoland                                  10919.0          ...             \nChile                                   17733.0          ...             \nSlovak Republic                          8663.0          ...             \nCzech Republic                          17299.0          ...             \nEstonia                                  7680.0          ...             \nGreece                                  14579.0          ...             \nPortugal                                31245.0          ...             \nSlovenia                                18465.0          ...             \nSpain                                   24774.0          ...             \nKorea                                   29091.0          ...             \nItaly                                   54987.0          ...             \nJapan                                   86764.0          ...             \nIsrael                                  52933.0          ...             \nNew Zealand                             28290.0          ...             \nFrance                                  48741.0          ...             \nBelgium                                 83876.0          ...             \nGermany                                 50394.0          ...             \nFinland                                 18761.0          ...             \nCanada                                  67913.0          ...             \nNetherlands                             77961.0          ...             \nAustria                                 49887.0          ...             \nUnited Kingdom                          60778.0          ...             \nSweden                                  60328.0          ...             \nIceland                                 43045.0          ...             \nAustralia                               47657.0          ...             \nIreland                                 31580.0          ...             \nDenmark                                 44488.0          ...             \nUnited States                          145769.0          ...             \nNorway                                   8797.0          ...             \nSwitzerland                            108823.0          ...             \nLuxembourg                              61765.0          ...             \n\n                 Time devoted to leisure and personal care  Voter turnout  \\\nCountry                                                                     \nBrazil                                               14.97           79.0   \nMexico                                               13.89           63.0   \nRussia                                               14.97           65.0   \nTurkey                                               13.42           88.0   \nHungary                                              15.04           62.0   \nPoland                                               14.20           55.0   \nChile                                                14.41           49.0   \nSlovak Republic                                      14.99           59.0   \nCzech Republic                                       14.98           59.0   \nEstonia                                              14.90           64.0   \nGreece                                               14.91           64.0   \nPortugal                                             14.95           58.0   \nSlovenia                                             14.62           52.0   \nSpain                                                16.06           69.0   \nKorea                                                14.63           76.0   \nItaly                                                14.98           75.0   \nJapan                                                14.93           53.0   \nIsrael                                               14.48           68.0   \nNew Zealand                                          14.87           77.0   \nFrance                                               15.33           80.0   \nBelgium                                              15.71           89.0   \nGermany                                              15.31           72.0   \nFinland                                              14.89           69.0   \nCanada                                               14.25           61.0   \nNetherlands                                          15.44           75.0   \nAustria                                              14.46           75.0   \nUnited Kingdom                                       14.83           66.0   \nSweden                                               15.11           86.0   \nIceland                                              14.61           81.0   \nAustralia                                            14.41           93.0   \nIreland                                              15.19           70.0   \nDenmark                                              16.06           88.0   \nUnited States                                        14.27           68.0   \nNorway                                               15.56           78.0   \nSwitzerland                                          14.98           49.0   \nLuxembourg                                           15.12           91.0   \n\n                 Water quality  Years in education  \\\nCountry                                              \nBrazil                    72.0                16.3   \nMexico                    67.0                14.4   \nRussia                    56.0                16.0   \nTurkey                    62.0                16.4   \nHungary                   77.0                17.6   \nPoland                    79.0                18.4   \nChile                     73.0                16.5   \nSlovak Republic           81.0                16.3   \nCzech Republic            85.0                18.1   \nEstonia                   79.0                17.5   \nGreece                    69.0                18.6   \nPortugal                  86.0                17.6   \nSlovenia                  88.0                18.4   \nSpain                     71.0                17.6   \nKorea                     78.0                17.5   \nItaly                     71.0                16.8   \nJapan                     85.0                16.3   \nIsrael                    68.0                15.8   \nNew Zealand               89.0                18.1   \nFrance                    82.0                16.4   \nBelgium                   87.0                18.9   \nGermany                   95.0                18.2   \nFinland                   94.0                19.7   \nCanada                    91.0                17.2   \nNetherlands               92.0                18.7   \nAustria                   94.0                17.0   \nUnited Kingdom            88.0                16.4   \nSweden                    95.0                19.3   \nIceland                   97.0                19.8   \nAustralia                 91.0                19.4   \nIreland                   80.0                17.6   \nDenmark                   94.0                19.4   \nUnited States             85.0                17.2   \nNorway                    94.0                17.9   \nSwitzerland               96.0                17.3   \nLuxembourg                86.0                15.1   \n\n                                                Subject Descriptor  \\\nCountry                                                              \nBrazil           Gross domestic product per capita, current prices   \nMexico           Gross domestic product per capita, current prices   \nRussia           Gross domestic product per capita, current prices   \nTurkey           Gross domestic product per capita, current prices   \nHungary          Gross domestic product per capita, current prices   \nPoland           Gross domestic product per capita, current prices   \nChile            Gross domestic product per capita, current prices   \nSlovak Republic  Gross domestic product per capita, current prices   \nCzech Republic   Gross domestic product per capita, current prices   \nEstonia          Gross domestic product per capita, current prices   \nGreece           Gross domestic product per capita, current prices   \nPortugal         Gross domestic product per capita, current prices   \nSlovenia         Gross domestic product per capita, current prices   \nSpain            Gross domestic product per capita, current prices   \nKorea            Gross domestic product per capita, current prices   \nItaly            Gross domestic product per capita, current prices   \nJapan            Gross domestic product per capita, current prices   \nIsrael           Gross domestic product per capita, current prices   \nNew Zealand      Gross domestic product per capita, current prices   \nFrance           Gross domestic product per capita, current prices   \nBelgium          Gross domestic product per capita, current prices   \nGermany          Gross domestic product per capita, current prices   \nFinland          Gross domestic product per capita, current prices   \nCanada           Gross domestic product per capita, current prices   \nNetherlands      Gross domestic product per capita, current prices   \nAustria          Gross domestic product per capita, current prices   \nUnited Kingdom   Gross domestic product per capita, current prices   \nSweden           Gross domestic product per capita, current prices   \nIceland          Gross domestic product per capita, current prices   \nAustralia        Gross domestic product per capita, current prices   \nIreland          Gross domestic product per capita, current prices   \nDenmark          Gross domestic product per capita, current prices   \nUnited States    Gross domestic product per capita, current prices   \nNorway           Gross domestic product per capita, current prices   \nSwitzerland      Gross domestic product per capita, current prices   \nLuxembourg       Gross domestic product per capita, current prices   \n\n                        Units  Scale  \\\nCountry                                \nBrazil           U.S. dollars  Units   \nMexico           U.S. dollars  Units   \nRussia           U.S. dollars  Units   \nTurkey           U.S. dollars  Units   \nHungary          U.S. dollars  Units   \nPoland           U.S. dollars  Units   \nChile            U.S. dollars  Units   \nSlovak Republic  U.S. dollars  Units   \nCzech Republic   U.S. dollars  Units   \nEstonia          U.S. dollars  Units   \nGreece           U.S. dollars  Units   \nPortugal         U.S. dollars  Units   \nSlovenia         U.S. dollars  Units   \nSpain            U.S. dollars  Units   \nKorea            U.S. dollars  Units   \nItaly            U.S. dollars  Units   \nJapan            U.S. dollars  Units   \nIsrael           U.S. dollars  Units   \nNew Zealand      U.S. dollars  Units   \nFrance           U.S. dollars  Units   \nBelgium          U.S. dollars  Units   \nGermany          U.S. dollars  Units   \nFinland          U.S. dollars  Units   \nCanada           U.S. dollars  Units   \nNetherlands      U.S. dollars  Units   \nAustria          U.S. dollars  Units   \nUnited Kingdom   U.S. dollars  Units   \nSweden           U.S. dollars  Units   \nIceland          U.S. dollars  Units   \nAustralia        U.S. dollars  Units   \nIreland          U.S. dollars  Units   \nDenmark          U.S. dollars  Units   \nUnited States    U.S. dollars  Units   \nNorway           U.S. dollars  Units   \nSwitzerland      U.S. dollars  Units   \nLuxembourg       U.S. dollars  Units   \n\n                                     Country/Series-specific Notes  \\\nCountry                                                              \nBrazil           See notes for:  Gross domestic product, curren...   \nMexico           See notes for:  Gross domestic product, curren...   \nRussia           See notes for:  Gross domestic product, curren...   \nTurkey           See notes for:  Gross domestic product, curren...   \nHungary          See notes for:  Gross domestic product, curren...   \nPoland           See notes for:  Gross domestic product, curren...   \nChile            See notes for:  Gross domestic product, curren...   \nSlovak Republic  See notes for:  Gross domestic product, curren...   \nCzech Republic   See notes for:  Gross domestic product, curren...   \nEstonia          See notes for:  Gross domestic product, curren...   \nGreece           See notes for:  Gross domestic product, curren...   \nPortugal         See notes for:  Gross domestic product, curren...   \nSlovenia         See notes for:  Gross domestic product, curren...   \nSpain            See notes for:  Gross domestic product, curren...   \nKorea            See notes for:  Gross domestic product, curren...   \nItaly            See notes for:  Gross domestic product, curren...   \nJapan            See notes for:  Gross domestic product, curren...   \nIsrael           See notes for:  Gross domestic product, curren...   \nNew Zealand      See notes for:  Gross domestic product, curren...   \nFrance           See notes for:  Gross domestic product, curren...   \nBelgium          See notes for:  Gross domestic product, curren...   \nGermany          See notes for:  Gross domestic product, curren...   \nFinland          See notes for:  Gross domestic product, curren...   \nCanada           See notes for:  Gross domestic product, curren...   \nNetherlands      See notes for:  Gross domestic product, curren...   \nAustria          See notes for:  Gross domestic product, curren...   \nUnited Kingdom   See notes for:  Gross domestic product, curren...   \nSweden           See notes for:  Gross domestic product, curren...   \nIceland          See notes for:  Gross domestic product, curren...   \nAustralia        See notes for:  Gross domestic product, curren...   \nIreland          See notes for:  Gross domestic product, curren...   \nDenmark          See notes for:  Gross domestic product, curren...   \nUnited States    See notes for:  Gross domestic product, curren...   \nNorway           See notes for:  Gross domestic product, curren...   \nSwitzerland      See notes for:  Gross domestic product, curren...   \nLuxembourg       See notes for:  Gross domestic product, curren...   \n\n                 GDP per capita  Estimates Start After  \nCountry                                                 \nBrazil                 8669.998                 2014.0  \nMexico                 9009.280                 2015.0  \nRussia                 9054.914                 2015.0  \nTurkey                 9437.372                 2013.0  \nHungary               12239.894                 2015.0  \nPoland                12495.334                 2014.0  \nChile                 13340.905                 2014.0  \nSlovak Republic       15991.736                 2015.0  \nCzech Republic        17256.918                 2015.0  \nEstonia               17288.083                 2014.0  \nGreece                18064.288                 2014.0  \nPortugal              19121.592                 2014.0  \nSlovenia              20732.482                 2015.0  \nSpain                 25864.721                 2014.0  \nKorea                 27195.197                 2014.0  \nItaly                 29866.581                 2015.0  \nJapan                 32485.545                 2015.0  \nIsrael                35343.336                 2015.0  \nNew Zealand           37044.891                 2015.0  \nFrance                37675.006                 2015.0  \nBelgium               40106.632                 2014.0  \nGermany               40996.511                 2014.0  \nFinland               41973.988                 2014.0  \nCanada                43331.961                 2015.0  \nNetherlands           43603.115                 2014.0  \nAustria               43724.031                 2015.0  \nUnited Kingdom        43770.688                 2015.0  \nSweden                49866.266                 2014.0  \nIceland               50854.583                 2014.0  \nAustralia             50961.865                 2014.0  \nIreland               51350.744                 2014.0  \nDenmark               52114.165                 2015.0  \nUnited States         55805.204                 2015.0  \nNorway                74822.106                 2015.0  \nSwitzerland           80675.308                 2015.0  \nLuxembourg           101994.093                 2014.0  \n\n[36 rows x 30 columns]"
      ]
     },
     "execution_count": 19,
     "metadata": {},
     "output_type": "execute_result"
    }
   ],
   "source": [
    "full_conutry_stats = pd.merge(left=oecd_bli, right=gdp_per_capita, left_index=True, right_index=True)\n",
    "full_conutry_stats.sort_values(by=\"GDP per capita\", inplace=True)\n",
    "full_conutry_stats"
   ]
  },
  {
   "cell_type": "code",
   "execution_count": null,
   "metadata": {
    "autoscroll": false,
    "collapsed": false,
    "ein.tags": "worksheet-0",
    "slideshow": {
     "slide_type": "-"
    }
   },
   "outputs": [],
   "source": []
  }
 ],
 "metadata": {
  "kernelspec": {
   "display_name": "Python 2",
   "name": "python2"
  },
  "language_info": {
   "codemirror_mode": {
    "name": "ipython",
    "version": 2
   },
   "file_extension": ".py",
   "mimetype": "text/x-python",
   "name": "python",
   "nbconvert_exporter": "python",
   "pygments_lexer": "ipython2",
   "version": "2.7.14"
  },
  "name": "01_the_machine_learning_landscape.ipynb"
 },
 "nbformat": 4,
 "nbformat_minor": 2
}
