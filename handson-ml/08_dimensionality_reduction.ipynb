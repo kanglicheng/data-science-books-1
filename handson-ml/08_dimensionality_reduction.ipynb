{
 "cells": [
  {
   "cell_type": "markdown",
   "metadata": {},
   "source": [
    "#### Main Approaches for Dimensionality Reduction\n",
    "- Projection\n",
    "![projection](./pics/projection.png)\n",
    "- Manifold Learning\n",
    "![SwissRoll](./pics/SwissRoll.png)\n",
    "\n",
    "![unrolling](./pics/unrolling.png)\n",
    "\n",
    "![boundary](./pics/boundary.png)"
   ]
  },
  {
   "cell_type": "markdown",
   "metadata": {},
   "source": [
    "#### Principal Component Analysis (PCA)\n",
    "> First it identifies the hyperplane that lies closest to the data, and then it projects the data onto it."
   ]
  }
 ],
 "metadata": {
  "kernelspec": {
   "display_name": "Python 3",
   "language": "python",
   "name": "python3"
  },
  "language_info": {
   "codemirror_mode": {
    "name": "ipython",
    "version": 3
   },
   "file_extension": ".py",
   "mimetype": "text/x-python",
   "name": "python",
   "nbconvert_exporter": "python",
   "pygments_lexer": "ipython3",
   "version": "3.5.6"
  }
 },
 "nbformat": 4,
 "nbformat_minor": 2
}
